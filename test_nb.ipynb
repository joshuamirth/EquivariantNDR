{
 "cells": [
  {
   "cell_type": "code",
   "execution_count": null,
   "metadata": {},
   "outputs": [],
   "source": [
    "# Embed a circle in RP^4 with five \"kinks\".\n",
    "import testing_utils\n",
    "import ppca\n",
    "X,n = testing_utils.circleRPn()"
   ]
  },
  {
   "cell_type": "code",
   "execution_count": null,
   "metadata": {},
   "outputs": [],
   "source": [
    "# Do a dimensionality reduction from X to RP^2 using PPCA.\n",
    "V = ppca.ppca(X, 2)\n",
    "P = V['X']\n",
    "testing_utils.plot_RP2(P)"
   ]
  },
  {
   "cell_type": "code",
   "execution_count": null,
   "metadata": {},
   "outputs": [],
   "source": [
    "# Do the dimensionality reduction from X to RP^2 using PMDS.\n",
    "M = testing_utils.pmds(X,2)\n",
    "testing_utils.plot_RP2(M)"
   ]
  },
  {
   "cell_type": "code",
   "execution_count": null,
   "metadata": {},
   "outputs": [],
   "source": [
    "# Now do the same with RP^3 and four \"kinks\".\n",
    "X,n = testing_utils.circleRPn(dimn=3,num_segments=3)"
   ]
  },
  {
   "cell_type": "code",
   "execution_count": null,
   "metadata": {},
   "outputs": [],
   "source": [
    "# Do a dimensionality reduction from X to RP^2 using PPCA.\n",
    "V = ppca.ppca(X, 2)\n",
    "P = V['X']\n",
    "testing_utils.plot_RP2(P)"
   ]
  },
  {
   "cell_type": "code",
   "execution_count": null,
   "metadata": {},
   "outputs": [],
   "source": [
    "# Do the dimensionality reduction from X to RP^2 using PMDS.\n",
    "M = testing_utils.pmds(X,2)\n",
    "testing_utils.plot_RP2(M)"
   ]
  }
 ],
 "metadata": {
  "jupytext": {
   "cell_metadata_filter": "-all",
   "main_language": "python",
   "notebook_metadata_filter": "-all"
  }
 },
 "nbformat": 4,
 "nbformat_minor": 4
}
