{
 "cells": [
  {
   "cell_type": "code",
   "execution_count": null,
   "metadata": {},
   "outputs": [],
   "source": [
    "# Embed a circle in RP^4 with five \"kinks\".\n",
    "import projective_mds\n",
    "import ppca\n",
    "X,n = projective_mds.circleRPn()"
   ]
  },
  {
   "cell_type": "code",
   "execution_count": null,
   "metadata": {},
   "outputs": [],
   "source": [
    "# Do a dimensionality reduction from X to RP^2 using PPCA.\n",
    "V = ppca.ppca(X, 2)\n",
    "P = V['X']\n",
    "projective_mds.plot_RP2(P)"
   ]
  },
  {
   "cell_type": "code",
   "execution_count": null,
   "metadata": {},
   "outputs": [],
   "source": [
    "# Do the dimensionality reduction from X to RP^2 using PMDS.\n",
    "M = projective_mds.pmds(X,2)\n",
    "projective_mds.plot_RP2(M)"
   ]
  },
  {
   "cell_type": "code",
   "execution_count": null,
   "metadata": {},
   "outputs": [],
   "source": [
    "# Now do the same with RP^3 and four \"kinks\".\n",
    "X,n = projective_mds.circleRPn(dimn=3,num_segments=3)"
   ]
  },
  {
   "cell_type": "code",
   "execution_count": null,
   "metadata": {},
   "outputs": [],
   "source": [
    "# Do a dimensionality reduction from X to RP^2 using PPCA.\n",
    "V = ppca.ppca(X, 2)\n",
    "P = V['X']\n",
    "projective_mds.plot_RP2(P)"
   ]
  },
  {
   "cell_type": "code",
   "execution_count": null,
   "metadata": {},
   "outputs": [],
   "source": [
    "# Do the dimensionality reduction from X to RP^2 using PMDS.\n",
    "M = projective_mds.pmds(X,2)\n",
    "projective_mds.plot_RP2(M)"
   ]
  }
 ],
 "metadata": {
  "jupytext": {
   "cell_metadata_filter": "-all",
   "main_language": "python",
   "notebook_metadata_filter": "-all"
  }
 },
 "nbformat": 4,
 "nbformat_minor": 4
}
