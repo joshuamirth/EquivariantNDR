{
 "cells": [
  {
   "cell_type": "markdown",
   "metadata": {},
   "source": [
    "# Compare the projective and lens algorithms\n",
    "\n",
    "Import the lens and projective mds packages. We will setup a dataset on RP^4 and reduce it to RP^2 using both packages (since the lens space with a Z/2 action is projective space) to see if the Lens MDS algorithm works."
   ]
  },
  {
   "cell_type": "code",
   "execution_count": 1,
   "metadata": {},
   "outputs": [
    {
     "name": "stdout",
     "output_type": "stream",
     "text": [
      "Loading personal version of PPCA. This may not be consistent with\n",
      "        the published version\n"
     ]
    }
   ],
   "source": [
    "import numpy as np\n",
    "import matplotlib.pyplot as plt\n",
    "import lens_mds\n",
    "import projective_mds\n",
    "from importlib import reload"
   ]
  },
  {
   "cell_type": "code",
   "execution_count": 2,
   "metadata": {},
   "outputs": [],
   "source": [
    "T,n = projective_mds.circleRPn(dim=5)\n",
    "D = projective_mds.graph_distance_matrix(T,k=5)\n",
    "Y = projective_mds.initial_guess(T,3)"
   ]
  },
  {
   "cell_type": "code",
   "execution_count": 3,
   "metadata": {},
   "outputs": [
    {
     "name": "stderr",
     "output_type": "stream",
     "text": [
      "/opt/anaconda2/envs/stiefel-testing/lib/python3.7/site-packages/autograd/tracer.py:48: RuntimeWarning: invalid value encountered in sqrt\n",
      "  return f_raw(*args, **kwargs)\n"
     ]
    },
    {
     "name": "stdout",
     "output_type": "stream",
     "text": [
      "No change in S matrix. Stopping iterations\n"
     ]
    }
   ],
   "source": [
    "# Reduce the dimension using pmds\n",
    "X_P,C_P,_ = projective_mds.pmds(Y,D,verbosity=0)"
   ]
  },
  {
   "cell_type": "code",
   "execution_count": 4,
   "metadata": {},
   "outputs": [
    {
     "data": {
      "text/plain": [
       "True"
      ]
     },
     "execution_count": 4,
     "metadata": {},
     "output_type": "execute_result"
    }
   ],
   "source": [
    "# Check that the optimal rotations match the sign matrix.\n",
    "omega = lens_mds.g_action_matrix(2,3)\n",
    "omega_true = np.array([[-1,0,0,0],[0,-1,0,0],[0,0,-1,0],[0,0,0,-1]])\n",
    "S = lens_mds.optimal_rotation(Y.T,omega,2)\n",
    "IP_computed = lens_mds.lens_inner_product(Y.T,omega,S)\n",
    "IP = np.sign(Y@Y.T)*(Y@Y.T)\n",
    "np.allclose(IP_computed,IP)"
   ]
  },
  {
   "cell_type": "markdown",
   "metadata": {},
   "source": [
    "The above shows that the inner products computed are correct. The sign matrix may not match because it is very sensitive to near-orthogonal vectors. Next we check that the cost functions match:"
   ]
  },
  {
   "cell_type": "code",
   "execution_count": 5,
   "metadata": {},
   "outputs": [
    {
     "name": "stdout",
     "output_type": "stream",
     "text": [
      "7182.168816562724\n",
      "7182.168816562724\n"
     ]
    }
   ],
   "source": [
    "W = lens_mds.distance_to_weights(D)\n",
    "cost = lens_mds.setup_cost(omega,S,D,W)\n",
    "print(cost(Y.T))\n",
    "proj_cost = projective_mds.setup_cost(D,np.sign(Y@Y.T))\n",
    "print(proj_cost(Y.T))"
   ]
  },
  {
   "cell_type": "code",
   "execution_count": 6,
   "metadata": {},
   "outputs": [
    {
     "name": "stdout",
     "output_type": "stream",
     "text": [
      "7182.168816562723\n"
     ]
    }
   ],
   "source": [
    "p=2\n",
    "M = lens_mds.get_masks(S,p)\n",
    "cost2 = lens_mds.setup_sum_cost(omega,M,D,W,p)\n",
    "print(cost2(Y.T))"
   ]
  },
  {
   "cell_type": "code",
   "execution_count": 7,
   "metadata": {},
   "outputs": [
    {
     "name": "stdout",
     "output_type": "stream",
     "text": [
      "Compiling cost function...\n",
      "Computing gradient of cost function...\n",
      "Optimizing...\n",
      "Terminated - min stepsize reached after 41 iterations, 0.59 seconds.\n",
      "\n",
      "Through 1 iterations:\n",
      "\tComputed cost: 3649.80\n",
      "\tPercent cost difference:  49.18\n",
      "\tPercent Difference in S:  7.86\n",
      "\tComputed cost with new M: 1013.34\n",
      "Compiling cost function...\n",
      "Computing gradient of cost function...\n",
      "Optimizing...\n",
      "Terminated - min grad norm reached after 116 iterations, 1.54 seconds.\n",
      "\n",
      "Through 2 iterations:\n",
      "\tComputed cost: 23.12\n",
      "\tPercent cost difference:  99.37\n",
      "\tPercent Difference in S:  0.72\n",
      "\tComputed cost with new M: 2.78\n",
      "Compiling cost function...\n",
      "Computing gradient of cost function...\n",
      "Optimizing...\n",
      "Terminated - max iterations reached after 13.23 seconds.\n",
      "\n",
      "Through 3 iterations:\n",
      "\tComputed cost: 0.30\n",
      "\tPercent cost difference:  98.71\n",
      "\tPercent Difference in S:  0.08\n",
      "\tComputed cost with new M: 0.24\n",
      "Compiling cost function...\n",
      "Computing gradient of cost function...\n",
      "Optimizing...\n",
      "Terminated - min grad norm reached after 426 iterations, 5.65 seconds.\n",
      "\n",
      "Through 4 iterations:\n",
      "\tComputed cost: 0.24\n",
      "\tPercent cost difference:  18.45\n",
      "\tPercent Difference in S:  0.00\n",
      "\tComputed cost with new M: 0.24\n",
      "Compiling cost function...\n",
      "Computing gradient of cost function...\n",
      "Optimizing...\n",
      "Terminated - min grad norm reached after 1 iterations, 0.01 seconds.\n",
      "\n",
      "Through 5 iterations:\n",
      "\tComputed cost: 0.24\n",
      "\tPercent cost difference: -0.00\n",
      "\tPercent Difference in S:  0.00\n",
      "\tComputed cost with new M: 0.24\n",
      "No change in S matrix. Stopping iterations\n"
     ]
    }
   ],
   "source": [
    "X_L,C_L = lens_mds.lmds(Y,D,2,autograd=True)"
   ]
  },
  {
   "cell_type": "code",
   "execution_count": 8,
   "metadata": {},
   "outputs": [
    {
     "name": "stdout",
     "output_type": "stream",
     "text": [
      "4673.929430868076\n",
      "4673.929432039016\n",
      "0.0083471006269608\n"
     ]
    }
   ],
   "source": [
    "# Check that both methods give same result.\n",
    "print(cost(X_L.T))\n",
    "print(cost(X_P.T))\n",
    "print(np.linalg.norm(X_L-X_P))"
   ]
  },
  {
   "cell_type": "markdown",
   "metadata": {},
   "source": [
    "Looks good! Now let's test the analytic gradient:"
   ]
  },
  {
   "cell_type": "code",
   "execution_count": 9,
   "metadata": {},
   "outputs": [
    {
     "name": "stdout",
     "output_type": "stream",
     "text": [
      "Compiling cost function...\n",
      "Optimizing...\n",
      "Terminated - min stepsize reached after 15 iterations, 0.27 seconds.\n",
      "\n",
      "Through 1 iterations:\n",
      "\tComputed cost: 3650.09\n",
      "\tPercent cost difference:  49.18\n",
      "\tPercent Difference in S:  7.87\n",
      "\tComputed cost with new M: 1018.93\n",
      "Compiling cost function...\n",
      "Optimizing...\n",
      "Terminated - min grad norm reached after 141 iterations, 1.63 seconds.\n",
      "\n",
      "Through 2 iterations:\n",
      "\tComputed cost: 22.70\n",
      "\tPercent cost difference:  99.38\n",
      "\tPercent Difference in S:  0.72\n",
      "\tComputed cost with new M: 2.72\n",
      "Compiling cost function...\n",
      "Optimizing...\n",
      "Terminated - max iterations reached after 11.33 seconds.\n",
      "\n",
      "Through 3 iterations:\n",
      "\tComputed cost: 0.29\n",
      "\tPercent cost difference:  98.72\n",
      "\tPercent Difference in S:  0.08\n",
      "\tComputed cost with new M: 0.24\n",
      "Compiling cost function...\n",
      "Optimizing...\n",
      "Terminated - min grad norm reached after 567 iterations, 6.72 seconds.\n",
      "\n",
      "Through 4 iterations:\n",
      "\tComputed cost: 0.24\n",
      "\tPercent cost difference:  16.61\n",
      "\tPercent Difference in S:  0.00\n",
      "\tComputed cost with new M: 0.24\n",
      "Compiling cost function...\n",
      "Optimizing...\n",
      "Terminated - min grad norm reached after 1 iterations, 0.01 seconds.\n",
      "\n",
      "Through 5 iterations:\n",
      "\tComputed cost: 0.24\n",
      "\tPercent cost difference:  0.00\n",
      "\tPercent Difference in S:  0.00\n",
      "\tComputed cost with new M: 0.24\n",
      "No change in S matrix. Stopping iterations\n"
     ]
    }
   ],
   "source": [
    "X_A,C_A = lens_mds.lmds(Y,D,2,autograd=False)"
   ]
  },
  {
   "cell_type": "code",
   "execution_count": 10,
   "metadata": {},
   "outputs": [
    {
     "name": "stdout",
     "output_type": "stream",
     "text": [
      "4673.92943072877\n",
      "0.05789480760189832\n"
     ]
    }
   ],
   "source": [
    "print(cost(X_A.T))\n",
    "print(np.linalg.norm(X_A-X_P))"
   ]
  },
  {
   "cell_type": "markdown",
   "metadata": {},
   "source": [
    "For fun, we're going to try doing the same with Z/p coefficients for some other choices of p."
   ]
  },
  {
   "cell_type": "code",
   "execution_count": 16,
   "metadata": {},
   "outputs": [
    {
     "name": "stdout",
     "output_type": "stream",
     "text": [
      "Compiling cost function...\n",
      "Computing gradient of cost function...\n",
      "Optimizing...\n",
      "Terminated - min stepsize reached after 70 iterations, 1.81 seconds.\n",
      "\n",
      "Through 1 iterations:\n",
      "\tComputed cost: 3497.63\n",
      "\tPercent cost difference:  35.00\n",
      "\tPercent Difference in S:  28.77\n",
      "\tComputed cost with new M: 2682.49\n",
      "Compiling cost function...\n",
      "Computing gradient of cost function...\n",
      "Optimizing...\n",
      "Terminated - min stepsize reached after 77 iterations, 1.92 seconds.\n",
      "\n",
      "Through 2 iterations:\n",
      "\tComputed cost: 961.82\n",
      "\tPercent cost difference:  72.50\n",
      "\tPercent Difference in S:  20.32\n",
      "\tComputed cost with new M: 1655.19\n",
      "Compiling cost function...\n",
      "Computing gradient of cost function...\n",
      "Optimizing...\n",
      "Terminated - min stepsize reached after 60 iterations, 1.47 seconds.\n",
      "\n",
      "Through 3 iterations:\n",
      "\tComputed cost: 610.09\n",
      "\tPercent cost difference:  36.57\n",
      "\tPercent Difference in S:  12.46\n",
      "\tComputed cost with new M: 484.77\n",
      "Compiling cost function...\n",
      "Computing gradient of cost function...\n",
      "Optimizing...\n",
      "Terminated - min stepsize reached after 86 iterations, 2.05 seconds.\n",
      "\n",
      "Through 4 iterations:\n",
      "\tComputed cost: 254.77\n",
      "\tPercent cost difference:  58.24\n",
      "\tPercent Difference in S:  4.90\n",
      "\tComputed cost with new M: 214.19\n",
      "Compiling cost function...\n",
      "Computing gradient of cost function...\n",
      "Optimizing...\n",
      "Terminated - min stepsize reached after 88 iterations, 2.14 seconds.\n",
      "\n",
      "Through 5 iterations:\n",
      "\tComputed cost: 163.28\n",
      "\tPercent cost difference:  35.91\n",
      "\tPercent Difference in S:  3.91\n",
      "\tComputed cost with new M: 136.15\n",
      "Compiling cost function...\n",
      "Computing gradient of cost function...\n",
      "Optimizing...\n",
      "Terminated - min stepsize reached after 91 iterations, 2.20 seconds.\n",
      "\n",
      "Through 6 iterations:\n",
      "\tComputed cost: 98.74\n",
      "\tPercent cost difference:  39.53\n",
      "\tPercent Difference in S:  3.62\n",
      "\tComputed cost with new M: 79.88\n",
      "Compiling cost function...\n",
      "Computing gradient of cost function...\n",
      "Optimizing...\n",
      "Terminated - min stepsize reached after 88 iterations, 2.18 seconds.\n",
      "\n",
      "Through 7 iterations:\n",
      "\tComputed cost: 52.88\n",
      "\tPercent cost difference:  46.45\n",
      "\tPercent Difference in S:  3.48\n",
      "\tComputed cost with new M: 40.88\n",
      "Compiling cost function...\n",
      "Computing gradient of cost function...\n",
      "Optimizing...\n",
      "Terminated - min stepsize reached after 96 iterations, 2.27 seconds.\n",
      "\n",
      "Through 8 iterations:\n",
      "\tComputed cost: 22.22\n",
      "\tPercent cost difference:  57.98\n",
      "\tPercent Difference in S:  3.67\n",
      "\tComputed cost with new M: 15.85\n",
      "Compiling cost function...\n",
      "Computing gradient of cost function...\n",
      "Optimizing...\n",
      "Terminated - min stepsize reached after 177 iterations, 4.27 seconds.\n",
      "\n",
      "Through 9 iterations:\n",
      "\tComputed cost: 5.58\n",
      "\tPercent cost difference:  74.91\n",
      "\tPercent Difference in S:  2.62\n",
      "\tComputed cost with new M: 3.32\n",
      "Compiling cost function...\n",
      "Computing gradient of cost function...\n",
      "Optimizing...\n",
      "Terminated - min grad norm reached after 228 iterations, 5.44 seconds.\n",
      "\n",
      "Through 10 iterations:\n",
      "\tComputed cost: 1.19\n",
      "\tPercent cost difference:  78.61\n",
      "\tPercent Difference in S:  1.53\n",
      "\tComputed cost with new M: 0.74\n",
      "Compiling cost function...\n",
      "Computing gradient of cost function...\n",
      "Optimizing...\n",
      "Terminated - min grad norm reached after 647 iterations, 15.66 seconds.\n",
      "\n",
      "Through 11 iterations:\n",
      "\tComputed cost: 0.38\n",
      "\tPercent cost difference:  67.81\n",
      "\tPercent Difference in S:  0.81\n",
      "\tComputed cost with new M: 0.31\n",
      "Compiling cost function...\n",
      "Computing gradient of cost function...\n",
      "Optimizing...\n",
      "Terminated - min grad norm reached after 525 iterations, 12.80 seconds.\n",
      "\n",
      "Through 12 iterations:\n",
      "\tComputed cost: 0.26\n",
      "\tPercent cost difference:  31.90\n",
      "\tPercent Difference in S:  0.44\n",
      "\tComputed cost with new M: 0.25\n",
      "Compiling cost function...\n",
      "Computing gradient of cost function...\n",
      "Optimizing...\n",
      "Terminated - min grad norm reached after 235 iterations, 5.63 seconds.\n",
      "\n",
      "Through 13 iterations:\n",
      "\tComputed cost: 0.24\n",
      "\tPercent cost difference:  7.51\n",
      "\tPercent Difference in S:  0.16\n",
      "\tComputed cost with new M: 0.24\n",
      "Compiling cost function...\n",
      "Computing gradient of cost function...\n",
      "Optimizing...\n",
      "Terminated - min grad norm reached after 211 iterations, 5.57 seconds.\n",
      "\n",
      "Through 14 iterations:\n",
      "\tComputed cost: 0.24\n",
      "\tPercent cost difference:  1.65\n",
      "\tPercent Difference in S:  0.00\n",
      "\tComputed cost with new M: 0.24\n",
      "No change in S matrix. Stopping iterations\n",
      "Compiling cost function...\n",
      "Optimizing...\n",
      "Terminated - min stepsize reached after 77 iterations, 1.81 seconds.\n",
      "\n",
      "Through 1 iterations:\n",
      "\tComputed cost: 3497.63\n",
      "\tPercent cost difference:  35.00\n",
      "\tPercent Difference in S:  28.77\n",
      "\tComputed cost with new M: 2682.49\n",
      "Compiling cost function...\n",
      "Optimizing...\n",
      "Terminated - min stepsize reached after 70 iterations, 1.65 seconds.\n",
      "\n",
      "Through 2 iterations:\n",
      "\tComputed cost: 961.82\n",
      "\tPercent cost difference:  72.50\n",
      "\tPercent Difference in S:  20.32\n",
      "\tComputed cost with new M: 1655.19\n",
      "Compiling cost function...\n",
      "Optimizing...\n",
      "Terminated - min stepsize reached after 56 iterations, 1.24 seconds.\n",
      "\n",
      "Through 3 iterations:\n",
      "\tComputed cost: 610.09\n",
      "\tPercent cost difference:  36.57\n",
      "\tPercent Difference in S:  12.46\n",
      "\tComputed cost with new M: 484.77\n",
      "Compiling cost function...\n",
      "Optimizing...\n",
      "Terminated - min grad norm reached after 87 iterations, 1.85 seconds.\n",
      "\n",
      "Through 4 iterations:\n",
      "\tComputed cost: 254.77\n",
      "\tPercent cost difference:  58.24\n",
      "\tPercent Difference in S:  4.90\n",
      "\tComputed cost with new M: 214.19\n",
      "Compiling cost function...\n",
      "Optimizing...\n",
      "Terminated - min stepsize reached after 76 iterations, 1.66 seconds.\n",
      "\n",
      "Through 5 iterations:\n",
      "\tComputed cost: 163.28\n",
      "\tPercent cost difference:  35.91\n",
      "\tPercent Difference in S:  3.91\n",
      "\tComputed cost with new M: 136.15\n",
      "Compiling cost function...\n",
      "Optimizing...\n",
      "Terminated - min stepsize reached after 73 iterations, 1.63 seconds.\n",
      "\n",
      "Through 6 iterations:\n",
      "\tComputed cost: 98.74\n",
      "\tPercent cost difference:  39.53\n",
      "\tPercent Difference in S:  3.62\n",
      "\tComputed cost with new M: 79.88\n",
      "Compiling cost function...\n",
      "Optimizing...\n",
      "Terminated - min grad norm reached after 86 iterations, 1.88 seconds.\n",
      "\n",
      "Through 7 iterations:\n",
      "\tComputed cost: 52.88\n",
      "\tPercent cost difference:  46.45\n",
      "\tPercent Difference in S:  3.48\n",
      "\tComputed cost with new M: 40.88\n",
      "Compiling cost function...\n",
      "Optimizing...\n",
      "Terminated - min stepsize reached after 93 iterations, 1.94 seconds.\n",
      "\n",
      "Through 8 iterations:\n",
      "\tComputed cost: 22.22\n",
      "\tPercent cost difference:  57.98\n",
      "\tPercent Difference in S:  3.67\n",
      "\tComputed cost with new M: 15.85\n",
      "Compiling cost function...\n",
      "Optimizing...\n",
      "Terminated - min stepsize reached after 173 iterations, 3.66 seconds.\n",
      "\n",
      "Through 9 iterations:\n",
      "\tComputed cost: 5.58\n",
      "\tPercent cost difference:  74.91\n",
      "\tPercent Difference in S:  2.62\n",
      "\tComputed cost with new M: 3.32\n",
      "Compiling cost function...\n",
      "Optimizing...\n",
      "Terminated - min grad norm reached after 228 iterations, 4.80 seconds.\n",
      "\n",
      "Through 10 iterations:\n",
      "\tComputed cost: 1.19\n",
      "\tPercent cost difference:  78.61\n",
      "\tPercent Difference in S:  1.53\n",
      "\tComputed cost with new M: 0.74\n",
      "Compiling cost function...\n",
      "Optimizing...\n",
      "Terminated - min grad norm reached after 669 iterations, 14.23 seconds.\n",
      "\n",
      "Through 11 iterations:\n",
      "\tComputed cost: 0.38\n",
      "\tPercent cost difference:  67.81\n",
      "\tPercent Difference in S:  0.81\n",
      "\tComputed cost with new M: 0.31\n",
      "Compiling cost function...\n",
      "Optimizing...\n",
      "Terminated - min grad norm reached after 346 iterations, 7.25 seconds.\n",
      "\n",
      "Through 12 iterations:\n",
      "\tComputed cost: 0.26\n",
      "\tPercent cost difference:  31.90\n",
      "\tPercent Difference in S:  0.44\n",
      "\tComputed cost with new M: 0.25\n",
      "Compiling cost function...\n",
      "Optimizing...\n",
      "Terminated - min grad norm reached after 248 iterations, 5.15 seconds.\n",
      "\n",
      "Through 13 iterations:\n",
      "\tComputed cost: 0.24\n",
      "\tPercent cost difference:  7.51\n",
      "\tPercent Difference in S:  0.16\n",
      "\tComputed cost with new M: 0.24\n",
      "Compiling cost function...\n",
      "Optimizing...\n",
      "Terminated - min grad norm reached after 197 iterations, 4.22 seconds.\n",
      "\n",
      "Through 14 iterations:\n",
      "\tComputed cost: 0.24\n",
      "\tPercent cost difference:  1.65\n",
      "\tPercent Difference in S:  0.00\n",
      "\tComputed cost with new M: 0.24\n",
      "No change in S matrix. Stopping iterations\n"
     ]
    }
   ],
   "source": [
    "reload(lens_mds)\n",
    "p=4\n",
    "X_L3,_ = lens_mds.lmds(Y,D,p,autograd=True)\n",
    "X_A3,_ = lens_mds.lmds(Y,D,p,autograd=False)"
   ]
  },
  {
   "cell_type": "code",
   "execution_count": 20,
   "metadata": {},
   "outputs": [
    {
     "name": "stdout",
     "output_type": "stream",
     "text": [
      "4673.929520078169\n",
      "4673.929520135265\n",
      "3.2092804812472916e-07\n",
      "7.098955817555078\n"
     ]
    }
   ],
   "source": [
    "print(cost(X_A3.T))\n",
    "print(cost(X_L3.T))\n",
    "print(np.linalg.norm(X_A3-X_L3))\n",
    "print(np.linalg.norm(X_A-X_A3))"
   ]
  },
  {
   "cell_type": "code",
   "execution_count": null,
   "metadata": {},
   "outputs": [],
   "source": []
  }
 ],
 "metadata": {
  "kernelspec": {
   "display_name": "Python 3",
   "language": "python",
   "name": "python3"
  },
  "language_info": {
   "codemirror_mode": {
    "name": "ipython",
    "version": 3
   },
   "file_extension": ".py",
   "mimetype": "text/x-python",
   "name": "python",
   "nbconvert_exporter": "python",
   "pygments_lexer": "ipython3",
   "version": "3.7.9"
  }
 },
 "nbformat": 4,
 "nbformat_minor": 4
}
