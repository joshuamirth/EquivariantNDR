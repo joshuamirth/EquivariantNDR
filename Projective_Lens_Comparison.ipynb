{
 "cells": [
  {
   "cell_type": "markdown",
   "metadata": {},
   "source": [
    "# Compare the projective and lens algorithms\n",
    "\n",
    "Import the lens and projective mds packages. We will setup a dataset on RP^4 and reduce it to RP^2 using both packages (since the lens space with a Z/2 action is projective space) to see if the Lens MDS algorithm works."
   ]
  },
  {
   "cell_type": "code",
   "execution_count": 3,
   "metadata": {},
   "outputs": [
    {
     "name": "stdout",
     "output_type": "stream",
     "text": [
      "Loading personal version of PPCA. This may not be consistent with\n",
      "        the published version\n"
     ]
    }
   ],
   "source": [
    "import numpy as np\n",
    "import matplotlib.pyplot as plt\n",
    "import lens_mds\n",
    "import projective_mds"
   ]
  },
  {
   "cell_type": "code",
   "execution_count": 4,
   "metadata": {},
   "outputs": [],
   "source": [
    "T,n = projective_mds.circleRPn(dim=5)\n",
    "D = projective_mds.graph_distance_matrix(T,k=5)\n",
    "Y = projective_mds.initial_guess(T,3)"
   ]
  },
  {
   "cell_type": "code",
   "execution_count": 5,
   "metadata": {},
   "outputs": [
    {
     "name": "stderr",
     "output_type": "stream",
     "text": [
      "/opt/anaconda2/envs/stiefel-testing/lib/python3.7/site-packages/autograd/tracer.py:48: RuntimeWarning: invalid value encountered in sqrt\n",
      "  return f_raw(*args, **kwargs)\n"
     ]
    },
    {
     "name": "stdout",
     "output_type": "stream",
     "text": [
      "No change in S matrix. Stopping iterations\n"
     ]
    }
   ],
   "source": [
    "# Reduce the dimension using pmds\n",
    "X,C,T = projective_mds.pmds(Y,D,verbosity=0)"
   ]
  },
  {
   "cell_type": "code",
   "execution_count": 53,
   "metadata": {},
   "outputs": [
    {
     "name": "stdout",
     "output_type": "stream",
     "text": [
      "[[-1.0000000e+00  1.2246468e-16  0.0000000e+00  0.0000000e+00]\n",
      " [-1.2246468e-16 -1.0000000e+00  0.0000000e+00  0.0000000e+00]\n",
      " [ 0.0000000e+00  0.0000000e+00 -1.0000000e+00  1.2246468e-16]\n",
      " [ 0.0000000e+00  0.0000000e+00 -1.2246468e-16 -1.0000000e+00]]\n",
      "[[-1  0  0  0]\n",
      " [ 0 -1  0  0]\n",
      " [ 0  0 -1  0]\n",
      " [ 0  0  0 -1]]\n",
      "False\n",
      "False\n",
      "415.99999999999994\n",
      "[  0.   4.   0.   0.   0.   0.   4.   0.   0.   0.   0.   0.   4.   0.\n",
      "   0.   4.   0.   0.   0.   0.   0.   4.   0.   0.   0.   0.   4.   0.\n",
      "   8.   0.  16.   0.   4.   0.   0.   0.   0.   0.   0.   4.   4.   0.\n",
      "   0.   0.   0.   0.   0.   0.   0.   0.   4.   8.   0.   0.   0.   0.\n",
      "   4.   0.   0.   0.   0.   0.   0.   0.   4.   0.   0.   0.   4.   0.\n",
      "   0.   4.   0.   0.   0.   0.   4.   4.   0.   0.   0.   0.   0.   0.\n",
      "   4.   0.   0.   0.   0.   0.   0.   4.   0.   0.   0.   4.   0.   0.\n",
      "   0.   0.   0.   0.   0.   4.   4.   0.   0.   0.   0.   0.   0.   4.\n",
      "   0.   0.   0.   0.   0.   0.   4.   0.   0.   0.   0.   0.   0.   0.\n",
      "   0.   0.   0.   0.   0.   0.   0.   4.   4.   0.   0.   0.   4.   0.\n",
      "   0.   0.   0.   0.   0.   0.   4.   0.   0.   0.   0.   0.   0.   4.\n",
      "   0.   0.   4.   0.   0.   0.   4.   0.   0.   4.   4.   0.   0.   0.\n",
      "   0.   4.   0.   0.   0.   0.   0.   4. 164.   0.   4.   4.   0.   4.\n",
      "   0.   0.   0.   0.   0.   0.   0.   0.   0.   0.   0.   0.   0.   0.\n",
      "   0.   0.   0.   0.   4.   0.   0.   0.   0.   4.   0.   0.   0.   0.\n",
      "   4.   0.   0.  40.   0.   0.   0.   0.   0.   4.   4.   0.   0.   0.\n",
      "   0.   0.   0.   0.   0.   0.   0.   0.   0.   4.   0.   0.   0.   0.\n",
      "   0.   4.   4.   0.   0.   0.   0.   0.   0.   0.   0.   0.]\n"
     ]
    }
   ],
   "source": [
    "# Check that the optimal rotations match the sign matrix:\n",
    "# (CURRENTLY THEY DO NOT!)\n",
    "omega = lens_mds.g_action_matrix(2,3)\n",
    "print(omega)\n",
    "omega_true = np.array([[-1,0,0,0],[0,-1,0,0],[0,0,-1,0],[0,0,0,-1]])\n",
    "print(omega_true)\n",
    "S = lens_mds.optimal_rotation(Y.T,omega,2)\n",
    "S_true = lens_mds.optimal_rotation(Y.T,omega_true,2)\n",
    "print(np.allclose(S,S_true))\n",
    "diff_mtx = (-2*S+1)-np.sign(Y@Y.T)\n",
    "print(np.allclose(np.sign(Y@Y.T),-2*S+1))\n",
    "print(np.linalg.norm(diff_mtx)**2)\n",
    "print(np.linalg.norm(diff_mtx,axis=1)**2)"
   ]
  },
  {
   "cell_type": "code",
   "execution_count": 17,
   "metadata": {},
   "outputs": [
    {
     "name": "stdout",
     "output_type": "stream",
     "text": [
      "[[1.         0.31299168 0.86855203 ... 0.03971352 0.87062992 0.01584653]\n",
      " [0.31299168 1.         0.63860307 ... 0.65845853 0.00715713 0.57635044]\n",
      " [0.86855203 0.63860307 1.         ... 0.04370846 0.53116015 0.01744059]\n",
      " ...\n",
      " [0.03971352 0.65845853 0.04370846 ... 1.         0.0717817  0.98891749]\n",
      " [0.87062992 0.00715713 0.53116015 ... 0.0717817  1.         0.02864241]\n",
      " [0.01584653 0.57635044 0.01744059 ... 0.98891749 0.02864241 1.        ]]\n"
     ]
    }
   ],
   "source": [
    "# Check that the janky inner product works\n",
    "print(lens_mds.lens_inner_product(Y.T,omega,S))"
   ]
  },
  {
   "cell_type": "code",
   "execution_count": null,
   "metadata": {},
   "outputs": [],
   "source": []
  }
 ],
 "metadata": {
  "kernelspec": {
   "display_name": "Python 3",
   "language": "python",
   "name": "python3"
  },
  "language_info": {
   "codemirror_mode": {
    "name": "ipython",
    "version": 3
   },
   "file_extension": ".py",
   "mimetype": "text/x-python",
   "name": "python",
   "nbconvert_exporter": "python",
   "pygments_lexer": "ipython3",
   "version": "3.7.7"
  }
 },
 "nbformat": 4,
 "nbformat_minor": 4
}
